{
 "cells": [
  {
   "cell_type": "code",
   "execution_count": 1,
   "id": "87ef0cb4",
   "metadata": {},
   "outputs": [],
   "source": [
    "import pandas as pd"
   ]
  },
  {
   "cell_type": "code",
   "execution_count": 2,
   "id": "ad213d0b",
   "metadata": {},
   "outputs": [
    {
     "data": {
      "text/html": [
       "<div>\n",
       "<style scoped>\n",
       "    .dataframe tbody tr th:only-of-type {\n",
       "        vertical-align: middle;\n",
       "    }\n",
       "\n",
       "    .dataframe tbody tr th {\n",
       "        vertical-align: top;\n",
       "    }\n",
       "\n",
       "    .dataframe thead th {\n",
       "        text-align: right;\n",
       "    }\n",
       "</style>\n",
       "<table border=\"1\" class=\"dataframe\">\n",
       "  <thead>\n",
       "    <tr style=\"text-align: right;\">\n",
       "      <th></th>\n",
       "      <th>age</th>\n",
       "      <th>sex</th>\n",
       "      <th>bmi</th>\n",
       "      <th>children</th>\n",
       "      <th>smoker</th>\n",
       "      <th>region</th>\n",
       "      <th>charges</th>\n",
       "    </tr>\n",
       "  </thead>\n",
       "  <tbody>\n",
       "    <tr>\n",
       "      <th>0</th>\n",
       "      <td>19</td>\n",
       "      <td>female</td>\n",
       "      <td>27.900</td>\n",
       "      <td>0</td>\n",
       "      <td>yes</td>\n",
       "      <td>southwest</td>\n",
       "      <td>16884.92400</td>\n",
       "    </tr>\n",
       "    <tr>\n",
       "      <th>1</th>\n",
       "      <td>18</td>\n",
       "      <td>male</td>\n",
       "      <td>33.770</td>\n",
       "      <td>1</td>\n",
       "      <td>no</td>\n",
       "      <td>southeast</td>\n",
       "      <td>1725.55230</td>\n",
       "    </tr>\n",
       "    <tr>\n",
       "      <th>2</th>\n",
       "      <td>28</td>\n",
       "      <td>male</td>\n",
       "      <td>33.000</td>\n",
       "      <td>3</td>\n",
       "      <td>no</td>\n",
       "      <td>southeast</td>\n",
       "      <td>4449.46200</td>\n",
       "    </tr>\n",
       "    <tr>\n",
       "      <th>3</th>\n",
       "      <td>33</td>\n",
       "      <td>male</td>\n",
       "      <td>22.705</td>\n",
       "      <td>0</td>\n",
       "      <td>no</td>\n",
       "      <td>northwest</td>\n",
       "      <td>21984.47061</td>\n",
       "    </tr>\n",
       "    <tr>\n",
       "      <th>4</th>\n",
       "      <td>32</td>\n",
       "      <td>male</td>\n",
       "      <td>28.880</td>\n",
       "      <td>0</td>\n",
       "      <td>no</td>\n",
       "      <td>northwest</td>\n",
       "      <td>3866.85520</td>\n",
       "    </tr>\n",
       "    <tr>\n",
       "      <th>...</th>\n",
       "      <td>...</td>\n",
       "      <td>...</td>\n",
       "      <td>...</td>\n",
       "      <td>...</td>\n",
       "      <td>...</td>\n",
       "      <td>...</td>\n",
       "      <td>...</td>\n",
       "    </tr>\n",
       "    <tr>\n",
       "      <th>1333</th>\n",
       "      <td>50</td>\n",
       "      <td>male</td>\n",
       "      <td>30.970</td>\n",
       "      <td>3</td>\n",
       "      <td>no</td>\n",
       "      <td>northwest</td>\n",
       "      <td>10600.54830</td>\n",
       "    </tr>\n",
       "    <tr>\n",
       "      <th>1334</th>\n",
       "      <td>18</td>\n",
       "      <td>female</td>\n",
       "      <td>31.920</td>\n",
       "      <td>0</td>\n",
       "      <td>no</td>\n",
       "      <td>northeast</td>\n",
       "      <td>2205.98080</td>\n",
       "    </tr>\n",
       "    <tr>\n",
       "      <th>1335</th>\n",
       "      <td>18</td>\n",
       "      <td>female</td>\n",
       "      <td>36.850</td>\n",
       "      <td>0</td>\n",
       "      <td>no</td>\n",
       "      <td>southeast</td>\n",
       "      <td>1629.83350</td>\n",
       "    </tr>\n",
       "    <tr>\n",
       "      <th>1336</th>\n",
       "      <td>21</td>\n",
       "      <td>female</td>\n",
       "      <td>25.800</td>\n",
       "      <td>0</td>\n",
       "      <td>no</td>\n",
       "      <td>southwest</td>\n",
       "      <td>2007.94500</td>\n",
       "    </tr>\n",
       "    <tr>\n",
       "      <th>1337</th>\n",
       "      <td>61</td>\n",
       "      <td>female</td>\n",
       "      <td>29.070</td>\n",
       "      <td>0</td>\n",
       "      <td>yes</td>\n",
       "      <td>northwest</td>\n",
       "      <td>29141.36030</td>\n",
       "    </tr>\n",
       "  </tbody>\n",
       "</table>\n",
       "<p>1338 rows × 7 columns</p>\n",
       "</div>"
      ],
      "text/plain": [
       "      age     sex     bmi  children smoker     region      charges\n",
       "0      19  female  27.900         0    yes  southwest  16884.92400\n",
       "1      18    male  33.770         1     no  southeast   1725.55230\n",
       "2      28    male  33.000         3     no  southeast   4449.46200\n",
       "3      33    male  22.705         0     no  northwest  21984.47061\n",
       "4      32    male  28.880         0     no  northwest   3866.85520\n",
       "...   ...     ...     ...       ...    ...        ...          ...\n",
       "1333   50    male  30.970         3     no  northwest  10600.54830\n",
       "1334   18  female  31.920         0     no  northeast   2205.98080\n",
       "1335   18  female  36.850         0     no  southeast   1629.83350\n",
       "1336   21  female  25.800         0     no  southwest   2007.94500\n",
       "1337   61  female  29.070         0    yes  northwest  29141.36030\n",
       "\n",
       "[1338 rows x 7 columns]"
      ]
     },
     "execution_count": 2,
     "metadata": {},
     "output_type": "execute_result"
    }
   ],
   "source": [
    "import pandas as pd\n",
    "df = pd.read_csv('../data/inputs/raw/insurance.csv')\n",
    "df "
   ]
  },
  {
   "cell_type": "code",
   "execution_count": 3,
   "id": "1c1b49ff",
   "metadata": {},
   "outputs": [
    {
     "name": "stdout",
     "output_type": "stream",
     "text": [
      "<class 'pandas.core.frame.DataFrame'>\n",
      "RangeIndex: 1338 entries, 0 to 1337\n",
      "Data columns (total 7 columns):\n",
      " #   Column    Non-Null Count  Dtype  \n",
      "---  ------    --------------  -----  \n",
      " 0   age       1338 non-null   int64  \n",
      " 1   sex       1338 non-null   object \n",
      " 2   bmi       1338 non-null   float64\n",
      " 3   children  1338 non-null   int64  \n",
      " 4   smoker    1338 non-null   object \n",
      " 5   region    1338 non-null   object \n",
      " 6   charges   1338 non-null   float64\n",
      "dtypes: float64(2), int64(2), object(3)\n",
      "memory usage: 73.3+ KB\n"
     ]
    },
    {
     "data": {
      "text/html": [
       "<div>\n",
       "<style scoped>\n",
       "    .dataframe tbody tr th:only-of-type {\n",
       "        vertical-align: middle;\n",
       "    }\n",
       "\n",
       "    .dataframe tbody tr th {\n",
       "        vertical-align: top;\n",
       "    }\n",
       "\n",
       "    .dataframe thead th {\n",
       "        text-align: right;\n",
       "    }\n",
       "</style>\n",
       "<table border=\"1\" class=\"dataframe\">\n",
       "  <thead>\n",
       "    <tr style=\"text-align: right;\">\n",
       "      <th></th>\n",
       "      <th>age</th>\n",
       "      <th>bmi</th>\n",
       "      <th>children</th>\n",
       "      <th>charges</th>\n",
       "    </tr>\n",
       "  </thead>\n",
       "  <tbody>\n",
       "    <tr>\n",
       "      <th>count</th>\n",
       "      <td>1338.000000</td>\n",
       "      <td>1338.000000</td>\n",
       "      <td>1338.000000</td>\n",
       "      <td>1338.000000</td>\n",
       "    </tr>\n",
       "    <tr>\n",
       "      <th>mean</th>\n",
       "      <td>39.207025</td>\n",
       "      <td>30.663397</td>\n",
       "      <td>1.094918</td>\n",
       "      <td>13270.422265</td>\n",
       "    </tr>\n",
       "    <tr>\n",
       "      <th>std</th>\n",
       "      <td>14.049960</td>\n",
       "      <td>6.098187</td>\n",
       "      <td>1.205493</td>\n",
       "      <td>12110.011237</td>\n",
       "    </tr>\n",
       "    <tr>\n",
       "      <th>min</th>\n",
       "      <td>18.000000</td>\n",
       "      <td>15.960000</td>\n",
       "      <td>0.000000</td>\n",
       "      <td>1121.873900</td>\n",
       "    </tr>\n",
       "    <tr>\n",
       "      <th>25%</th>\n",
       "      <td>27.000000</td>\n",
       "      <td>26.296250</td>\n",
       "      <td>0.000000</td>\n",
       "      <td>4740.287150</td>\n",
       "    </tr>\n",
       "    <tr>\n",
       "      <th>50%</th>\n",
       "      <td>39.000000</td>\n",
       "      <td>30.400000</td>\n",
       "      <td>1.000000</td>\n",
       "      <td>9382.033000</td>\n",
       "    </tr>\n",
       "    <tr>\n",
       "      <th>75%</th>\n",
       "      <td>51.000000</td>\n",
       "      <td>34.693750</td>\n",
       "      <td>2.000000</td>\n",
       "      <td>16639.912515</td>\n",
       "    </tr>\n",
       "    <tr>\n",
       "      <th>max</th>\n",
       "      <td>64.000000</td>\n",
       "      <td>53.130000</td>\n",
       "      <td>5.000000</td>\n",
       "      <td>63770.428010</td>\n",
       "    </tr>\n",
       "  </tbody>\n",
       "</table>\n",
       "</div>"
      ],
      "text/plain": [
       "               age          bmi     children       charges\n",
       "count  1338.000000  1338.000000  1338.000000   1338.000000\n",
       "mean     39.207025    30.663397     1.094918  13270.422265\n",
       "std      14.049960     6.098187     1.205493  12110.011237\n",
       "min      18.000000    15.960000     0.000000   1121.873900\n",
       "25%      27.000000    26.296250     0.000000   4740.287150\n",
       "50%      39.000000    30.400000     1.000000   9382.033000\n",
       "75%      51.000000    34.693750     2.000000  16639.912515\n",
       "max      64.000000    53.130000     5.000000  63770.428010"
      ]
     },
     "execution_count": 3,
     "metadata": {},
     "output_type": "execute_result"
    }
   ],
   "source": [
    "df.info()\n",
    "df.describe()"
   ]
  },
  {
   "cell_type": "markdown",
   "id": "18f72590",
   "metadata": {},
   "source": [
    "I have extracted a file path and imported the CSV file from the Kaggle Dataset on the table above, I am now proceeding to transform the data but before I did that I needed to understand more clearly on the data I was looking at using the .info and .describe method."
   ]
  },
  {
   "cell_type": "code",
   "execution_count": 4,
   "id": "814437d3",
   "metadata": {},
   "outputs": [
    {
     "data": {
      "text/plain": [
       "age         0\n",
       "sex         0\n",
       "bmi         0\n",
       "children    0\n",
       "smoker      0\n",
       "region      0\n",
       "charges     0\n",
       "dtype: int64"
      ]
     },
     "execution_count": 4,
     "metadata": {},
     "output_type": "execute_result"
    }
   ],
   "source": [
    "df.head()\n",
    "df.isnull().sum()"
   ]
  },
  {
   "cell_type": "markdown",
   "id": "9802b46f",
   "metadata": {},
   "source": [
    "I also chose this route to help me have a preview of the data whilst confirming it loaded correctly. This also lets me know what values are missing in each column."
   ]
  },
  {
   "cell_type": "code",
   "execution_count": 5,
   "id": "c9d7cb72",
   "metadata": {},
   "outputs": [],
   "source": [
    "df.drop_duplicates(inplace=True)"
   ]
  },
  {
   "cell_type": "markdown",
   "id": "0ed2663d",
   "metadata": {},
   "source": [
    "Dropping any duplicates is a good call as it removes any duplicate rows from the dataset."
   ]
  },
  {
   "cell_type": "code",
   "execution_count": 6,
   "id": "1c89be3a",
   "metadata": {},
   "outputs": [],
   "source": [
    "df.fillna(df.select_dtypes(include=['number']).mean(), inplace=True)"
   ]
  },
  {
   "cell_type": "code",
   "execution_count": 7,
   "id": "c31a9afd",
   "metadata": {},
   "outputs": [
    {
     "data": {
      "text/plain": [
       "age         0\n",
       "sex         0\n",
       "bmi         0\n",
       "children    0\n",
       "smoker      0\n",
       "region      0\n",
       "charges     0\n",
       "dtype: int64"
      ]
     },
     "execution_count": 7,
     "metadata": {},
     "output_type": "execute_result"
    }
   ],
   "source": [
    "df.isnull().sum()"
   ]
  },
  {
   "cell_type": "markdown",
   "id": "51d28939",
   "metadata": {},
   "source": [
    "I replaced the missing data and at first an error was shown as the original code only applied to numeric columns. I then adjusted the code to fit both string and [numbers]."
   ]
  },
  {
   "cell_type": "markdown",
   "id": "0366ae74",
   "metadata": {},
   "source": [
    "I also wanted to confirm the changes with the df.isnull method and all seems well."
   ]
  },
  {
   "cell_type": "code",
   "execution_count": 8,
   "id": "64f97ddd",
   "metadata": {},
   "outputs": [],
   "source": [
    "df[\"smoker_encoded\"] = df[\"smoker\"].map({\"yes\": 1, \"no\": 0})\n",
    "df[\"region_encoded\"] = df[\"region\"].astype(\"category\").cat.codes"
   ]
  },
  {
   "cell_type": "markdown",
   "id": "ed80a452",
   "metadata": {},
   "source": [
    "This transforms the data to make it process numerically to make it easier to manage. This is encoding the categories."
   ]
  },
  {
   "cell_type": "code",
   "execution_count": 9,
   "id": "c3204502",
   "metadata": {},
   "outputs": [],
   "source": [
    "def bmi_category(bmi):\n",
    "    if bmi < 18.5:\n",
    "        return \"Underweight\"\n",
    "    elif bmi < 24.9:\n",
    "        return 'Normal'\n",
    "    elif bmi < 29.9:\n",
    "        return 'Overweight'\n",
    "    else:\n",
    "        return 'Obese'\n",
    "df['bmi_category'] = df['bmi'].apply(bmi_category)"
   ]
  },
  {
   "cell_type": "code",
   "execution_count": 10,
   "id": "0daa3ae5",
   "metadata": {},
   "outputs": [
    {
     "data": {
      "text/plain": [
       "age                 int64\n",
       "sex                object\n",
       "bmi               float64\n",
       "children            int64\n",
       "smoker             object\n",
       "region             object\n",
       "charges           float64\n",
       "smoker_encoded      int64\n",
       "region_encoded       int8\n",
       "bmi_category       object\n",
       "dtype: object"
      ]
     },
     "execution_count": 10,
     "metadata": {},
     "output_type": "execute_result"
    }
   ],
   "source": [
    "df.dtypes"
   ]
  },
  {
   "cell_type": "markdown",
   "id": "adf8280a",
   "metadata": {},
   "source": [
    "I used the IF, ELIF, ELSE method to transform and categorise the BMI values into four categories: Underweight, Normal, Overweight, and Obese."
   ]
  },
  {
   "cell_type": "code",
   "execution_count": 11,
   "id": "5c1a95a8",
   "metadata": {},
   "outputs": [],
   "source": [
    "df.to_csv(\"processed_data.csv\", index=False) #kept the location location simple"
   ]
  },
  {
   "cell_type": "markdown",
   "id": "b525803e",
   "metadata": {},
   "source": [
    "This code above has saved my cleaned up data for any future anaylsis. I did it this way to avoid changing the file location. I did this to load the data to make sure all was well."
   ]
  },
  {
   "cell_type": "code",
   "execution_count": 12,
   "id": "dc012094",
   "metadata": {},
   "outputs": [
    {
     "name": "stdout",
     "output_type": "stream",
     "text": [
      "      sex smoker\n",
      "0  female    yes\n",
      "1    male     no\n",
      "2    male     no\n",
      "3    male     no\n",
      "4    male     no\n",
      "               age          bmi     children       charges  smoker_encoded  \\\n",
      "count  1337.000000  1337.000000  1337.000000   1337.000000     1337.000000   \n",
      "mean     39.222139    30.663452     1.095737  13279.121487        0.204936   \n",
      "std      14.044333     6.100468     1.205571  12110.359656        0.403806   \n",
      "min      18.000000    15.960000     0.000000   1121.873900        0.000000   \n",
      "25%      27.000000    26.290000     0.000000   4746.344000        0.000000   \n",
      "50%      39.000000    30.400000     1.000000   9386.161300        0.000000   \n",
      "75%      51.000000    34.700000     2.000000  16657.717450        0.000000   \n",
      "max      64.000000    53.130000     5.000000  63770.428010        1.000000   \n",
      "\n",
      "       region_encoded  \n",
      "count     1337.000000  \n",
      "mean         1.516081  \n",
      "std          1.105208  \n",
      "min          0.000000  \n",
      "25%          1.000000  \n",
      "50%          2.000000  \n",
      "75%          2.000000  \n",
      "max          3.000000  \n"
     ]
    }
   ],
   "source": [
    "print(df[['sex', 'smoker']].head())\n",
    "\n",
    "\n",
    "print(df.describe())\n",
    "\n",
    "\n",
    "assert df.isnull().sum().sum() == 0, \"There are still missing values!\" #what text will show up\n"
   ]
  },
  {
   "cell_type": "markdown",
   "id": "42ae3dd7",
   "metadata": {},
   "source": [
    "This final step validates that there are no missing values in the dataset. If there are, it will raise an assertion error with the message \"There are still missing values!\"."
   ]
  },
  {
   "cell_type": "markdown",
   "id": "5174c589",
   "metadata": {},
   "source": [
    "I have now successfully done : Extract, Transformed, Loaded and Validated the dataset. I am now moving onto visualisation."
   ]
  },
  {
   "cell_type": "markdown",
   "id": "c25bdb27",
   "metadata": {},
   "source": [
    "                                          ________________________"
   ]
  },
  {
   "cell_type": "markdown",
   "id": "93068b90",
   "metadata": {},
   "source": [
    "## Data Visualisation Using : Matplotlib, Seaborn & Plotly"
   ]
  },
  {
   "cell_type": "markdown",
   "id": "01b79afc",
   "metadata": {},
   "source": [
    "For this section of the project, we will use visualisation to explore the data "
   ]
  },
  {
   "cell_type": "markdown",
   "id": "92d4ae68",
   "metadata": {},
   "source": [
    "For the first plot, I decided to make a Bar Chart for age - related comparisions as I feel that focusing on age can be a great way to have an undertsanding on insurance costs and its affects as a whole."
   ]
  },
  {
   "cell_type": "code",
   "execution_count": 13,
   "id": "441b03a0",
   "metadata": {},
   "outputs": [],
   "source": [
    "import matplotlib.pyplot as plt  \n",
    "import seaborn as sns "
   ]
  },
  {
   "cell_type": "code",
   "execution_count": 14,
   "id": "f2508d8e",
   "metadata": {},
   "outputs": [],
   "source": [
    "import pandas as pd\n",
    "\n",
    "# I Did this as pandas didnt seem to define df \n",
    "df = pd.read_csv(\"processed_data.csv\")\n"
   ]
  },
  {
   "cell_type": "markdown",
   "id": "c6fe71ba",
   "metadata": {},
   "source": [
    "Above, I had to tell pandas the dataset I was using as the original code I put had said that 'df' hadnt been defined. Doing this told the system where I was getting the data from."
   ]
  },
  {
   "cell_type": "code",
   "execution_count": 15,
   "id": "5ac19095",
   "metadata": {},
   "outputs": [],
   "source": [
    "#age groups created\n",
    "df['age_group'] = pd.cut(df['age'], bins=[18, 25, 35, 45, 55, 65], \n",
    "                         labels=['18-25', '26-35', '36-45', '46-55', '56-65'])\n",
    "\n",
    "# I Grouped and calculate average charges\n",
    "age_avg_charges = df.groupby('age_group', observed=True)['charges'].mean().reset_index() #added 'observed=True' to avoid warning\n",
    "\n"
   ]
  },
  {
   "cell_type": "markdown",
   "id": "4fc3b7bd",
   "metadata": {},
   "source": [
    "Plot 1: Barchart"
   ]
  },
  {
   "cell_type": "code",
   "execution_count": 16,
   "id": "54435e84",
   "metadata": {},
   "outputs": [],
   "source": [
    "import seaborn as sns"
   ]
  },
  {
   "cell_type": "code",
   "execution_count": 17,
   "id": "3291c2af",
   "metadata": {},
   "outputs": [
    {
     "name": "stderr",
     "output_type": "stream",
     "text": [
      "C:\\Users\\faiza\\AppData\\Local\\Temp\\ipykernel_12736\\231279000.py:2: FutureWarning: \n",
      "\n",
      "Passing `palette` without assigning `hue` is deprecated and will be removed in v0.14.0. Assign the `x` variable to `hue` and set `legend=False` for the same effect.\n",
      "\n",
      "  sns.barplot(data=age_avg_charges, x='age_group', y='charges', palette='coolwarm')\n"
     ]
    },
    {
     "data": {
      "image/png": "[encoded data removed]",
      "text/plain": [
       "<Figure size 800x500 with 1 Axes>"
      ]
     },
     "metadata": {},
     "output_type": "display_data"
    }
   ],
   "source": [
    "\n",
    "plt.figure(figsize=(8, 5))\n",
    "sns.barplot(data=age_avg_charges, x='age_group', y='charges', palette='coolwarm')\n",
    "plt.title('Average Insurance Charges by Age Group')\n",
    "plt.xlabel('Age Group')\n",
    "plt.ylabel('Average Charges')\n",
    "plt.show()\n"
   ]
  },
  {
   "cell_type": "markdown",
   "id": "261ce6c5",
   "metadata": {},
   "source": [
    "The Bar Chart above shows the: Age Group and Average Charges. I had titles it \"Average Insurance Charges by Age Group\" to reflect my findings. It also highlights age impact clearly. You will see a 'future warning' message above as it is talking about the colour palette I have chosen to add for aesthetic purposes. This warning doesnt show any issues with my code, so I had decided to leave it as is."
   ]
  },
  {
   "cell_type": "markdown",
   "id": "774f1efd",
   "metadata": {},
   "source": [
    "Plot 2 : Histogram"
   ]
  },
  {
   "cell_type": "code",
   "execution_count": 18,
   "id": "6fb4ac72",
   "metadata": {},
   "outputs": [
    {
     "data": {
      "image/png": "[encoded data removed]",
      "text/plain": [
       "<Figure size 800x500 with 1 Axes>"
      ]
     },
     "metadata": {},
     "output_type": "display_data"
    }
   ],
   "source": [
    "import matplotlib.pyplot as plt\n",
    "\n",
    "plt.figure(figsize=(8, 5))\n",
    "plt.hist(df['charges'], bins=20, color='skyblue', edgecolor='black')\n",
    "plt.title('Distribution of Insurance Charges')\n",
    "plt.xlabel('Charges')\n",
    "plt.ylabel('Frequency')\n",
    "plt.grid(axis='y')\n",
    "plt.show()\n"
   ]
  },
  {
   "cell_type": "markdown",
   "id": "0d43e7a2",
   "metadata": {},
   "source": [
    "As you can see, I forgot to add the meaning of what the charges are measured by. I redid the code and added dollars to make it more clear."
   ]
  },
  {
   "cell_type": "code",
   "execution_count": 19,
   "id": "b18cd2fc",
   "metadata": {},
   "outputs": [
    {
     "data": {
      "image/png": "[encoded data removed]",
      "text/plain": [
       "<Figure size 800x500 with 1 Axes>"
      ]
     },
     "metadata": {},
     "output_type": "display_data"
    }
   ],
   "source": [
    "plt.figure(figsize=(8, 5))\n",
    "plt.hist(df['charges'], bins=20, color='skyblue', edgecolor='black')\n",
    "plt.title('Distribution of Insurance Charges')\n",
    "plt.xlabel('Charges (USD $)')  # <- shows units\n",
    "plt.ylabel('Number of People')\n",
    "plt.grid(True)\n",
    "plt.tight_layout()\n",
    "plt.show()\n"
   ]
  },
  {
   "cell_type": "markdown",
   "id": "8322e286",
   "metadata": {},
   "source": [
    "The plot above now shows the final visual of the 'Distrubtion of Insurance Charges' and perfect for spotting skewed or normal spread. I have also gone ahead and labeled the Y- Axis 'Number of People' and X - Axis 'Charges in USD' and the dollar is commonly used."
   ]
  },
  {
   "cell_type": "markdown",
   "id": "b0032e8a",
   "metadata": {},
   "source": [
    "Plot 3 - Interactive Scatter Plot "
   ]
  },
  {
   "cell_type": "code",
   "execution_count": 20,
   "id": "b95a5479",
   "metadata": {},
   "outputs": [],
   "source": [
    "import plotly.express as px"
   ]
  },
  {
   "cell_type": "code",
   "execution_count": 21,
   "id": "a4d53f3e",
   "metadata": {},
   "outputs": [
    {
     "ename": "ValueError",
     "evalue": "Mime type rendering requires nbformat>=4.2.0 but it is not installed",
     "output_type": "error",
     "traceback": [
      "\u001b[31m---------------------------------------------------------------------------\u001b[39m",
      "\u001b[31mValueError\u001b[39m                                Traceback (most recent call last)",
      "\u001b[36mCell\u001b[39m\u001b[36m \u001b[39m\u001b[32mIn[21]\u001b[39m\u001b[32m, line 8\u001b[39m\n\u001b[32m      1\u001b[39m fig = px.scatter(\n\u001b[32m      2\u001b[39m     df, \n\u001b[32m      3\u001b[39m     x=\u001b[33m\"\u001b[39m\u001b[33mbmi\u001b[39m\u001b[33m\"\u001b[39m, \n\u001b[32m   (...)\u001b[39m\u001b[32m      6\u001b[39m     title=\u001b[33m\"\u001b[39m\u001b[33mBMI vs Insurance Charges\u001b[39m\u001b[33m\"\u001b[39m\n\u001b[32m      7\u001b[39m )  \n\u001b[32m----> \u001b[39m\u001b[32m8\u001b[39m \u001b[43mfig\u001b[49m\u001b[43m.\u001b[49m\u001b[43mshow\u001b[49m\u001b[43m(\u001b[49m\u001b[43m)\u001b[49m\n",
      "\u001b[36mFile \u001b[39m\u001b[32mc:\\Users\\faiza\\dev\\Healthcare-Insurance-Cost-Analysis\\.venv\\Lib\\site-packages\\plotly\\basedatatypes.py:3412\u001b[39m, in \u001b[36mBaseFigure.show\u001b[39m\u001b[34m(self, *args, **kwargs)\u001b[39m\n\u001b[32m   3379\u001b[39m \u001b[38;5;250m\u001b[39m\u001b[33;03m\"\"\"\u001b[39;00m\n\u001b[32m   3380\u001b[39m \u001b[33;03mShow a figure using either the default renderer(s) or the renderer(s)\u001b[39;00m\n\u001b[32m   3381\u001b[39m \u001b[33;03mspecified by the renderer argument\u001b[39;00m\n\u001b[32m   (...)\u001b[39m\u001b[32m   3408\u001b[39m \u001b[33;03mNone\u001b[39;00m\n\u001b[32m   3409\u001b[39m \u001b[33;03m\"\"\"\u001b[39;00m\n\u001b[32m   3410\u001b[39m \u001b[38;5;28;01mimport\u001b[39;00m\u001b[38;5;250m \u001b[39m\u001b[34;01mplotly\u001b[39;00m\u001b[34;01m.\u001b[39;00m\u001b[34;01mio\u001b[39;00m\u001b[38;5;250m \u001b[39m\u001b[38;5;28;01mas\u001b[39;00m\u001b[38;5;250m \u001b[39m\u001b[34;01mpio\u001b[39;00m\n\u001b[32m-> \u001b[39m\u001b[32m3412\u001b[39m \u001b[38;5;28;01mreturn\u001b[39;00m \u001b[43mpio\u001b[49m\u001b[43m.\u001b[49m\u001b[43mshow\u001b[49m\u001b[43m(\u001b[49m\u001b[38;5;28;43mself\u001b[39;49m\u001b[43m,\u001b[49m\u001b[43m \u001b[49m\u001b[43m*\u001b[49m\u001b[43margs\u001b[49m\u001b[43m,\u001b[49m\u001b[43m \u001b[49m\u001b[43m*\u001b[49m\u001b[43m*\u001b[49m\u001b[43mkwargs\u001b[49m\u001b[43m)\u001b[49m\n",
      "\u001b[36mFile \u001b[39m\u001b[32mc:\\Users\\faiza\\dev\\Healthcare-Insurance-Cost-Analysis\\.venv\\Lib\\site-packages\\plotly\\io\\_renderers.py:396\u001b[39m, in \u001b[36mshow\u001b[39m\u001b[34m(fig, renderer, validate, **kwargs)\u001b[39m\n\u001b[32m    391\u001b[39m         \u001b[38;5;28;01mraise\u001b[39;00m \u001b[38;5;167;01mValueError\u001b[39;00m(\n\u001b[32m    392\u001b[39m             \u001b[33m\"\u001b[39m\u001b[33mMime type rendering requires ipython but it is not installed\u001b[39m\u001b[33m\"\u001b[39m\n\u001b[32m    393\u001b[39m         )\n\u001b[32m    395\u001b[39m     \u001b[38;5;28;01mif\u001b[39;00m \u001b[38;5;129;01mnot\u001b[39;00m nbformat \u001b[38;5;129;01mor\u001b[39;00m Version(nbformat.__version__) < Version(\u001b[33m\"\u001b[39m\u001b[33m4.2.0\u001b[39m\u001b[33m\"\u001b[39m):\n\u001b[32m--> \u001b[39m\u001b[32m396\u001b[39m         \u001b[38;5;28;01mraise\u001b[39;00m \u001b[38;5;167;01mValueError\u001b[39;00m(\n\u001b[32m    397\u001b[39m             \u001b[33m\"\u001b[39m\u001b[33mMime type rendering requires nbformat>=4.2.0 but it is not installed\u001b[39m\u001b[33m\"\u001b[39m\n\u001b[32m    398\u001b[39m         )\n\u001b[32m    400\u001b[39m     ipython_display.display(bundle, raw=\u001b[38;5;28;01mTrue\u001b[39;00m)\n\u001b[32m    402\u001b[39m \u001b[38;5;66;03m# external renderers\u001b[39;00m\n",
      "\u001b[31mValueError\u001b[39m: Mime type rendering requires nbformat>=4.2.0 but it is not installed"
     ]
    }
   ],
   "source": [
    "fig = px.scatter(\n",
    "    df, \n",
    "    x=\"bmi\", \n",
    "    y=\"charges\", \n",
    "    color=\"smoker\", \n",
    "    title=\"BMI vs Insurance Charges\"\n",
    ")  \n",
    "fig.show()\n"
   ]
  }
 ],
 "metadata": {
  "kernelspec": {
   "display_name": ".venv",
   "language": "python",
   "name": "python3"
  },
  "language_info": {
   "codemirror_mode": {
    "name": "ipython",
    "version": 3
   },
   "file_extension": ".py",
   "mimetype": "text/x-python",
   "name": "python",
   "nbconvert_exporter": "python",
   "pygments_lexer": "ipython3",
   "version": "3.12.8"
  }
 },
 "nbformat": 4,
 "nbformat_minor": 5
}
